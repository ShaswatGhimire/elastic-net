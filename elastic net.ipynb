{
 "cells": [
  {
   "cell_type": "code",
   "execution_count": 1,
   "id": "01d42cec",
   "metadata": {},
   "outputs": [],
   "source": [
    "import numpy as np\n",
    "import pandas as pd\n",
    "from sklearn.datasets import load_boston\n",
    "from sklearn.pipeline import Pipeline\n",
    "from sklearn.preprocessing import QuantileTransformer\n",
    "from sklearn.linear_model import ElasticNet\n",
    "from sklearn.model_selection import GridSearchCV"
   ]
  },
  {
   "cell_type": "code",
   "execution_count": 9,
   "id": "f2a0bec3",
   "metadata": {},
   "outputs": [],
   "source": [
    "# Load the Boston housing dataset\n",
    "boston = load_boston()"
   ]
  },
  {
   "cell_type": "code",
   "execution_count": 12,
   "id": "56b39ea1",
   "metadata": {},
   "outputs": [],
   "source": [
    "# Create the pipeline\n",
    "pipeline = Pipeline([\n",
    "    ('qt', QuantileTransformer()),\n",
    "    ('elastic_net', ElasticNet())\n",
    "])\n",
    "\n",
    "# Create the hyperparameter grid\n",
    "hyperparameters = {\n",
    "    'qt__n_quantiles': [10, 100],\n",
    "    'qt__output_distribution': ['uniform', 'normal'],\n",
    "    'elastic_net__alpha': [ 0.1, 1, 10],\n",
    "    'elastic_net__l1_ratio': [0.1, 0.5, 0.8]\n",
    "}\n",
    "\n",
    "# Create the grid search CV object\n",
    "grid_search = GridSearchCV(pipeline, hyperparameters, cv=5)"
   ]
  },
  {
   "cell_type": "code",
   "execution_count": 13,
   "id": "9bc782f3",
   "metadata": {
    "scrolled": false
   },
   "outputs": [
    {
     "name": "stdout",
     "output_type": "stream",
     "text": [
      "{'elastic_net__alpha': 0.1, 'elastic_net__l1_ratio': 0.5, 'qt__n_quantiles': 100, 'qt__output_distribution': 'normal'}\n",
      "0.4946410356550178\n"
     ]
    }
   ],
   "source": [
    "# Fit the grid search CV object to the data\n",
    "grid_search.fit(boston.data, boston.target)\n",
    "\n",
    "# Print the best parameters\n",
    "print(grid_search.best_params_)\n",
    "\n",
    "# Print the best score\n",
    "print(grid_search.best_score_)"
   ]
  },
  {
   "cell_type": "code",
   "execution_count": null,
   "id": "7b167acb",
   "metadata": {},
   "outputs": [],
   "source": []
  }
 ],
 "metadata": {
  "kernelspec": {
   "display_name": "Python 3",
   "language": "python",
   "name": "python3"
  },
  "language_info": {
   "codemirror_mode": {
    "name": "ipython",
    "version": 3
   },
   "file_extension": ".py",
   "mimetype": "text/x-python",
   "name": "python",
   "nbconvert_exporter": "python",
   "pygments_lexer": "ipython3",
   "version": "3.8.8"
  }
 },
 "nbformat": 4,
 "nbformat_minor": 5
}
